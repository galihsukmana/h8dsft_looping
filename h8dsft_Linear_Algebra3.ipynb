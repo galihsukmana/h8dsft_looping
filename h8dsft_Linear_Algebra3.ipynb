{
 "cells": [
  {
   "cell_type": "code",
   "execution_count": 1,
   "id": "6037b57b",
   "metadata": {},
   "outputs": [],
   "source": [
    "import numpy as np"
   ]
  },
  {
   "cell_type": "code",
   "execution_count": 2,
   "id": "33436c80",
   "metadata": {},
   "outputs": [],
   "source": [
    "A = np.array([[1,3]])\n",
    "B = np.array([[1,-1]\n",
    "              ,[6,4]])"
   ]
  },
  {
   "cell_type": "code",
   "execution_count": 3,
   "id": "f24f14aa",
   "metadata": {},
   "outputs": [
    {
     "data": {
      "text/plain": [
       "array([[1, 3]])"
      ]
     },
     "execution_count": 3,
     "metadata": {},
     "output_type": "execute_result"
    }
   ],
   "source": [
    "A"
   ]
  },
  {
   "cell_type": "code",
   "execution_count": 5,
   "id": "ad6a2ab1",
   "metadata": {},
   "outputs": [
    {
     "data": {
      "text/plain": [
       "array([[ 1, -1],\n",
       "       [ 6,  4]])"
      ]
     },
     "execution_count": 5,
     "metadata": {},
     "output_type": "execute_result"
    }
   ],
   "source": [
    "B"
   ]
  },
  {
   "cell_type": "code",
   "execution_count": 6,
   "id": "d807d4ff",
   "metadata": {},
   "outputs": [
    {
     "data": {
      "text/plain": [
       "(array([2.5+1.93649167j, 2.5-1.93649167j]),\n",
       " array([[-0.23145502+0.29880715j, -0.23145502-0.29880715j],\n",
       "        [ 0.9258201 +0.j        ,  0.9258201 -0.j        ]]))"
      ]
     },
     "execution_count": 6,
     "metadata": {},
     "output_type": "execute_result"
    }
   ],
   "source": [
    "np.linalg.eig(B)"
   ]
  },
  {
   "cell_type": "code",
   "execution_count": null,
   "id": "7f534835",
   "metadata": {},
   "outputs": [],
   "source": []
  }
 ],
 "metadata": {
  "kernelspec": {
   "display_name": "galih",
   "language": "python",
   "name": "galih"
  },
  "language_info": {
   "codemirror_mode": {
    "name": "ipython",
    "version": 3
   },
   "file_extension": ".py",
   "mimetype": "text/x-python",
   "name": "python",
   "nbconvert_exporter": "python",
   "pygments_lexer": "ipython3",
   "version": "3.7.16"
  }
 },
 "nbformat": 4,
 "nbformat_minor": 5
}
