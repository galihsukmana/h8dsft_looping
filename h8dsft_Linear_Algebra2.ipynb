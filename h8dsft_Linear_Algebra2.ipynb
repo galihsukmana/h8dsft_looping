{
 "cells": [
  {
   "cell_type": "code",
   "execution_count": 33,
   "id": "ff2ffe88",
   "metadata": {},
   "outputs": [],
   "source": [
    "import numpy as np\n",
    "import pandas as pd"
   ]
  },
  {
   "cell_type": "code",
   "execution_count": 34,
   "id": "156371b5",
   "metadata": {},
   "outputs": [],
   "source": [
    "A = np.array([[23,50]\n",
    "               ,[7,15]])\n",
    "B = np.array([[57,67]\n",
    "               ,[99,43]])\n",
    "C = np.array([[75,21]\n",
    "              ,[57,12]])\n",
    "D = np.array([[87,26]\n",
    "              ,[18,84]])"
   ]
  },
  {
   "cell_type": "code",
   "execution_count": 35,
   "id": "d7f80931",
   "metadata": {},
   "outputs": [
    {
     "data": {
      "text/plain": [
       "array([[[23, 50],\n",
       "        [ 7, 15]],\n",
       "\n",
       "       [[57, 67],\n",
       "        [99, 43]],\n",
       "\n",
       "       [[75, 21],\n",
       "        [57, 12]],\n",
       "\n",
       "       [[87, 26],\n",
       "        [18, 84]]])"
      ]
     },
     "execution_count": 35,
     "metadata": {},
     "output_type": "execute_result"
    }
   ],
   "source": [
    "Tensor = np.array([A,B,C,D])\n",
    "Tensor"
   ]
  },
  {
   "cell_type": "code",
   "execution_count": 36,
   "id": "88383f03",
   "metadata": {},
   "outputs": [],
   "source": [
    "Matrix_A = np.array([[23,50,29]\n",
    "                     ,[7,12,109]\n",
    "                     ,[57,67,98]])\n",
    "Matrix_B = np.array([[17],\n",
    "                     [22],\n",
    "                     [19]])"
   ]
  },
  {
   "cell_type": "code",
   "execution_count": 37,
   "id": "2e8ab70a",
   "metadata": {},
   "outputs": [
    {
     "data": {
      "text/plain": [
       "array([[2042],\n",
       "       [2454],\n",
       "       [4305]])"
      ]
     },
     "execution_count": 37,
     "metadata": {},
     "output_type": "execute_result"
    }
   ],
   "source": [
    "Matrix_A @ Matrix_B"
   ]
  },
  {
   "cell_type": "code",
   "execution_count": 38,
   "id": "eea21090",
   "metadata": {},
   "outputs": [],
   "source": [
    "C = np.array([[23,50,19]\n",
    "             ,[7,12,109]\n",
    "             ,[57,67,98]])"
   ]
  },
  {
   "cell_type": "code",
   "execution_count": 39,
   "id": "14c8bbf1",
   "metadata": {},
   "outputs": [
    {
     "data": {
      "text/plain": [
       "array([[ 23,  50,  19],\n",
       "       [  7,  12, 109],\n",
       "       [ 57,  67,  98]])"
      ]
     },
     "execution_count": 39,
     "metadata": {},
     "output_type": "execute_result"
    }
   ],
   "source": [
    "C"
   ]
  },
  {
   "cell_type": "code",
   "execution_count": 40,
   "id": "0127e12f",
   "metadata": {},
   "outputs": [
    {
     "data": {
      "text/plain": [
       "array([[ 23,   7,  57],\n",
       "       [ 50,  12,  67],\n",
       "       [ 19, 109,  98]])"
      ]
     },
     "execution_count": 40,
     "metadata": {},
     "output_type": "execute_result"
    }
   ],
   "source": [
    "Trans = C.T\n",
    "Trans"
   ]
  },
  {
   "cell_type": "code",
   "execution_count": 42,
   "id": "ae977258",
   "metadata": {},
   "outputs": [
    {
     "data": {
      "text/plain": [
       "131344.0000000002"
      ]
     },
     "execution_count": 42,
     "metadata": {},
     "output_type": "execute_result"
    }
   ],
   "source": [
    "Det = np.linalg.det(C)\n",
    "Det"
   ]
  },
  {
   "cell_type": "code",
   "execution_count": 43,
   "id": "48fa8d19",
   "metadata": {},
   "outputs": [
    {
     "data": {
      "text/plain": [
       "array([[-0.0466485 , -0.02761451,  0.03975819],\n",
       "       [ 0.04208034,  0.00891552, -0.01807467],\n",
       "       [-0.00163692,  0.0099662 , -0.00056341]])"
      ]
     },
     "execution_count": 43,
     "metadata": {},
     "output_type": "execute_result"
    }
   ],
   "source": [
    "Inv = np.linalg.inv(C)\n",
    "Inv"
   ]
  },
  {
   "cell_type": "code",
   "execution_count": null,
   "id": "d73cca70",
   "metadata": {},
   "outputs": [],
   "source": []
  }
 ],
 "metadata": {
  "kernelspec": {
   "display_name": "galih",
   "language": "python",
   "name": "galih"
  },
  "language_info": {
   "codemirror_mode": {
    "name": "ipython",
    "version": 3
   },
   "file_extension": ".py",
   "mimetype": "text/x-python",
   "name": "python",
   "nbconvert_exporter": "python",
   "pygments_lexer": "ipython3",
   "version": "3.7.16"
  }
 },
 "nbformat": 4,
 "nbformat_minor": 5
}
